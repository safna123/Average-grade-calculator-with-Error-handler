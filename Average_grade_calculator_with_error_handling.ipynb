{
  "nbformat": 4,
  "nbformat_minor": 0,
  "metadata": {
    "colab": {
      "name": "Average grade calculator with error handling",
      "provenance": [],
      "collapsed_sections": [],
      "authorship_tag": "ABX9TyNIvzK5qeqz2brDCDHXP4zu",
      "include_colab_link": true
    },
    "kernelspec": {
      "name": "python3",
      "display_name": "Python 3"
    }
  },
  "cells": [
    {
      "cell_type": "markdown",
      "metadata": {
        "id": "view-in-github",
        "colab_type": "text"
      },
      "source": [
        "<a href=\"https://colab.research.google.com/github/safna123/Average-grade-calculator-with-Error-handler/blob/main/Average_grade_calculator_with_error_handling.ipynb\" target=\"_parent\"><img src=\"https://colab.research.google.com/assets/colab-badge.svg\" alt=\"Open In Colab\"/></a>"
      ]
    },
    {
      "cell_type": "code",
      "metadata": {
        "id": "UfO5rnxm-FqR"
      },
      "source": [
        "data_valid=False"
      ],
      "execution_count": 20,
      "outputs": []
    },
    {
      "cell_type": "code",
      "metadata": {
        "colab": {
          "base_uri": "https://localhost:8080/"
        },
        "id": "X6f-8ZVPE1Ap",
        "outputId": "8f7453f4-1c53-41da-f8fe-a4a6ce03777b"
      },
      "source": [
        "while(data_valid) == False:\r\n",
        "    grade1 = input(\"Enter your grade1 marks: \")\r\n",
        "    try:\r\n",
        "        grade1 = float(grade1)\r\n",
        "    except:\r\n",
        "        print(\"Invalid input\")\r\n",
        "        continue\r\n",
        "    if grade1 < 0 or grade1 > 10:\r\n",
        "        print(\"The number must be between 0 and 10\")\r\n",
        "        continue\r\n",
        "    else:\r\n",
        "        data_valid = True  "
      ],
      "execution_count": 21,
      "outputs": [
        {
          "output_type": "stream",
          "text": [
            "Enter your grade1 marks: text\n",
            "Invalid input\n",
            "Enter your grade1 marks: 100\n",
            "The number must be between 0 and 10\n",
            "Enter your grade1 marks: 8\n"
          ],
          "name": "stdout"
        }
      ]
    },
    {
      "cell_type": "code",
      "metadata": {
        "id": "suxjphmzIDOF"
      },
      "source": [
        "data_valid = False"
      ],
      "execution_count": 22,
      "outputs": []
    },
    {
      "cell_type": "code",
      "metadata": {
        "colab": {
          "base_uri": "https://localhost:8080/"
        },
        "id": "-g7OfQ1gEZ3q",
        "outputId": "22dd5cbe-68e1-411b-cdc9-ddd2cf2a75ed"
      },
      "source": [
        "while(data_valid) == False:\r\n",
        "    grade2 = input(\"Enter your grade2 marks: \")\r\n",
        "    try:\r\n",
        "        grade2 = float(grade2)\r\n",
        "    except:\r\n",
        "        print(\"Invalid input\")\r\n",
        "        continue\r\n",
        "    if(grade2 < 0 or grade2 > 10):\r\n",
        "        print(\"The number must be between 0 and 10\")\r\n",
        "        continue\r\n",
        "    else:\r\n",
        "        data_valid = True  "
      ],
      "execution_count": 23,
      "outputs": [
        {
          "output_type": "stream",
          "text": [
            "Enter your grade2 marks: ss\n",
            "Invalid input\n",
            "Enter your grade2 marks: 40\n",
            "The number must be between 0 and 10\n",
            "Enter your grade2 marks: 6\n"
          ],
          "name": "stdout"
        }
      ]
    },
    {
      "cell_type": "code",
      "metadata": {
        "id": "Q_Zg5acKIQz9"
      },
      "source": [
        "data_valid = False"
      ],
      "execution_count": 24,
      "outputs": []
    },
    {
      "cell_type": "code",
      "metadata": {
        "colab": {
          "base_uri": "https://localhost:8080/"
        },
        "id": "N9HPFI2QIUU-",
        "outputId": "2b14044c-28d5-4a3d-eb5c-f88d0685458a"
      },
      "source": [
        "while(data_valid) == False:\r\n",
        "    total_classes = input(\"Total classes: \")\r\n",
        "    try:\r\n",
        "        total_classes = float(total_classes)\r\n",
        "    except:\r\n",
        "        print(\"Invalid input\")\r\n",
        "        continue\r\n",
        "    if(total_classes < 0):\r\n",
        "        print(\"The total_classes cannot be negative\")\r\n",
        "        continue\r\n",
        "    else:\r\n",
        "        data_valid = True  "
      ],
      "execution_count": 25,
      "outputs": [
        {
          "output_type": "stream",
          "text": [
            "Total classes: str\n",
            "Invalid input\n",
            "Total classes: -90\n",
            "The total_classes cannot be negative\n",
            "Total classes: 100\n"
          ],
          "name": "stdout"
        }
      ]
    },
    {
      "cell_type": "code",
      "metadata": {
        "id": "RGTRg3hiIaPp"
      },
      "source": [
        "data_valid = False"
      ],
      "execution_count": 26,
      "outputs": []
    },
    {
      "cell_type": "code",
      "metadata": {
        "colab": {
          "base_uri": "https://localhost:8080/"
        },
        "id": "tQqxMJLsIgei",
        "outputId": "77f8a7f0-3fd7-4426-c9e9-32073b807e6d"
      },
      "source": [
        "while(data_valid) == False:\r\n",
        "    absences = input(\"Total number of absences: \")\r\n",
        "    try:\r\n",
        "        absences = float(absences)\r\n",
        "    except:\r\n",
        "        print(\"Invalid input\")\r\n",
        "        continue\r\n",
        "    if(absences < 0 or absences > total_classes):\r\n",
        "        print(\"The absences cannot be negative or more than total_classes\")\r\n",
        "        continue\r\n",
        "    else:\r\n",
        "        data_valid = True  "
      ],
      "execution_count": 28,
      "outputs": [
        {
          "output_type": "stream",
          "text": [
            "Total number of absences: 110\n",
            "The absences cannot be negative or more than total_classes\n",
            "Total number of absences: -90\n",
            "The absences cannot be negative or more than total_classes\n",
            "Total number of absences: srr\n",
            "Invalid input\n",
            "Total number of absences: 40\n"
          ],
          "name": "stdout"
        }
      ]
    },
    {
      "cell_type": "code",
      "metadata": {
        "colab": {
          "base_uri": "https://localhost:8080/"
        },
        "id": "zZSSk9qVIkui",
        "outputId": "816406b1-c01d-4ab8-c6c2-d30a17a9e6f5"
      },
      "source": [
        "avg_grade = (grade1+grade2)/2\r\n",
        "print(avg_grade)"
      ],
      "execution_count": 29,
      "outputs": [
        {
          "output_type": "stream",
          "text": [
            "7.0\n"
          ],
          "name": "stdout"
        }
      ]
    },
    {
      "cell_type": "code",
      "metadata": {
        "colab": {
          "base_uri": "https://localhost:8080/"
        },
        "id": "JdYS02L2Iqxd",
        "outputId": "d21eba7a-25b4-4337-cd03-c5f7d63d0153"
      },
      "source": [
        "attendance = ((total_classes - absences)/total_classes) * 100\r\n",
        "print(attendance)"
      ],
      "execution_count": 30,
      "outputs": [
        {
          "output_type": "stream",
          "text": [
            "60.0\n"
          ],
          "name": "stdout"
        }
      ]
    },
    {
      "cell_type": "code",
      "metadata": {
        "colab": {
          "base_uri": "https://localhost:8080/"
        },
        "id": "_drupl-DIx2J",
        "outputId": "a3eaacf0-38c6-4e99-cc61-495ed90fee9e"
      },
      "source": [
        "if(avg_grade >= 6 and attendance >= 80):\r\n",
        "    approval = \"You are approved with average grade of \"+ str(avg_grade) + \" and attendance of \"+str(attendance)+\"%\"\r\n",
        "elif(avg_grade < 6 and attendance < 80):\r\n",
        "    approval = \"You are not approved due to less average grade of \"+str(avg_grade) + \" and less attendance of \"+str(attendance)+\"%\"\r\n",
        "elif(avg_grade >= 6):\r\n",
        "    approval = \"You are not approved with average grade of \"+ str(avg_grade) + \" and less attendance of \"+str(attendance)+\"%\"\r\n",
        "else:\r\n",
        "    approval = \"You are not approved with less average grade of \"+ str(avg_grade) + \" and attendance of \"+str(attendance)+\"%\"\r\n",
        "print(approval)"
      ],
      "execution_count": 31,
      "outputs": [
        {
          "output_type": "stream",
          "text": [
            "You are not approved with average grade of 7.0 and less attendance of 60.0%\n"
          ],
          "name": "stdout"
        }
      ]
    }
  ]
}